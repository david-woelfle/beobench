{
 "cells": [
  {
   "cell_type": "code",
   "execution_count": 1,
   "metadata": {},
   "outputs": [],
   "source": [
    "%reload_ext autoreload\n",
    "%autoreload 2\n",
    "%config IPCompleter.greedy=True\n",
    "%config IPCompleter.use_jedi=False"
   ]
  },
  {
   "cell_type": "code",
   "execution_count": null,
   "metadata": {},
   "outputs": [],
   "source": [
    "from boptestGymEnv import BoptestGymEnv, NormalizedActionWrapper, NormalizedObservationWrapper\n",
    "from stable_baselines import A2C\n",
    "from boptest_gym.examples.test_and_plot import test_agent\n",
    "\n",
    "# BOPTEST case address\n",
    "url = 'http://127.0.0.1:5000'\n",
    "\n",
    "# Instantite environment\n",
    "print(\"Starting env\")\n",
    "env = BoptestGymEnv(url                   = url,\n",
    "                    actions               = ['oveHeaPumY_u'],\n",
    "                    observations          = {'reaTZon_y':(280.,310.)}, \n",
    "                    random_start_time     = True,\n",
    "                    max_episode_length    = 24*3600,\n",
    "                    warmup_period         = 10,\n",
    "                    step_period           = 900)\n",
    "\n",
    "# Add wrappers to normalize state and action spaces (Optional)\n",
    "env = NormalizedObservationWrapper(env)\n",
    "env = NormalizedActionWrapper(env)  \n",
    "\n",
    "print(\"Starting training\")\n",
    "\n",
    "# Instantiate and train an RL algorithm\n",
    "model = A2C('MlpPolicy', env)\n",
    "model.learn(total_timesteps=int(1e1))\n",
    "\n",
    "print(\"Done with training\")\n",
    "\n",
    "# Test trained agent\n",
    "observations, actions, rewards, kpis = test_agent(env, model, \n",
    "                                                  start_time=0, \n",
    "                                                  episode_length=100,\n",
    "                                                  warmup_period=10,\n",
    "                                                  plot=True)\n",
    "\n",
    "# CUSTOM ADAPTATIONS NECESSARY\n",
    "# Change 'examples' to 'boptest_gym.examples' in import in /opt/beobench/boptest_gym/boptestGymEnv.py"
   ]
  }
 ],
 "metadata": {
  "interpreter": {
   "hash": "191e4cf9e2a3aa63280ffa5cdbe1e7f3f7516329c8199c5b4077a78ab74895f8"
  },
  "kernelspec": {
   "display_name": "Python 3.9.7 64-bit (conda)",
   "name": "python3"
  },
  "language_info": {
   "codemirror_mode": {
    "name": "ipython",
    "version": 3
   },
   "file_extension": ".py",
   "mimetype": "text/x-python",
   "name": "python",
   "nbconvert_exporter": "python",
   "pygments_lexer": "ipython3",
   "version": "3.7.12"
  },
  "orig_nbformat": 4
 },
 "nbformat": 4,
 "nbformat_minor": 2
}
