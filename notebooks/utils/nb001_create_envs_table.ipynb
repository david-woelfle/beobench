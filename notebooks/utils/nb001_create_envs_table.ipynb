{
 "cells": [
  {
   "cell_type": "code",
   "execution_count": 1,
   "metadata": {},
   "outputs": [],
   "source": [
    "%reload_ext autoreload\n",
    "%autoreload 2\n",
    "%config IPCompleter.greedy=True\n",
    "%config IPCompleter.use_jedi=False"
   ]
  },
  {
   "cell_type": "code",
   "execution_count": 2,
   "metadata": {},
   "outputs": [],
   "source": [
    "import pandas as pd\n",
    "import numpy as np\n",
    "\n",
    "# Load data from google sheet\n",
    "sheet_id = \"1QaXBrhDY8tyF9cIBjejDTGMiv5vDUQG0KQ7iVapGQoY\"\n",
    "gid = 1987847080\n",
    "link = f\"https://docs.google.com/feeds/download/spreadsheets/Export?key={sheet_id}&exportFormat=csv&gid={gid}\"\n",
    "envs = pd.read_csv(link)\n",
    "\n",
    "\n",
    "# format data for rst\n",
    "def emojify(row):  \n",
    "    house_type = row[\"House type\"]\n",
    "    if house_type == \"residential\":\n",
    "        return \".. image:: https://raw.githubusercontent.com/tabler/tabler-icons/master/icons/home.svg\"\n",
    "    elif house_type == \"office\":\n",
    "        return \".. image:: https://raw.githubusercontent.com/tabler/tabler-icons/master/icons/building-skyscraper.svg\"\n",
    "    elif house_type == \"industrial\":\n",
    "        return \".. image:: https://raw.githubusercontent.com/tabler/tabler-icons/master/icons/building-factory.svg\"\n",
    "    return \"other\"\n",
    "\n",
    "def italicise(row, col):\n",
    "    value = row[col]\n",
    "    if value is not np.nan:\n",
    "        return f\"*{value}*\"\n",
    "    else:\n",
    "        return \"\"\n",
    "\n",
    "def codify(row, col):\n",
    "    value = row[col]\n",
    "    if value is not np.nan:\n",
    "        return f\"``{value}``\"\n",
    "    else:\n",
    "        return \"\"\n",
    "\n",
    "def create_doc_links(row):\n",
    "    original_url = row[\"Original docs\"]\n",
    "    beobench_url = row[\"Beobench docs\"]\n",
    "    link_str = f\"`original <{original_url}>`_, `beobench <{beobench_url}>`_\"\n",
    "    return link_str\n",
    "\n",
    "envs['Type*'] = envs.apply(lambda row: emojify(row), axis=1)\n",
    "envs['Gym'] = envs.apply(lambda row: italicise(row, col=\"Gym\"), axis=1)\n",
    "envs['Environment'] = envs.apply(lambda row: codify(row, col=\"Environment\"), axis=1)\n",
    "envs['Description'] = envs.apply(lambda row: create_doc_links(row), axis=1)\n",
    "\n",
    "# Save data to csv\n",
    "printable_envs = envs[[\"Gym\",\"Environment\",\"Type*\",\"Description\"]]\n",
    "printable_envs.to_csv(\"../../docs/available_envs_parsed.csv\", index=False)\n"
   ]
  },
  {
   "cell_type": "code",
   "execution_count": 3,
   "metadata": {},
   "outputs": [],
   "source": [
    "# printable_envs"
   ]
  }
 ],
 "metadata": {
  "interpreter": {
   "hash": "949777d72b0d2535278d3dc13498b2535136f6dfe0678499012e853ee9abcab1"
  },
  "kernelspec": {
   "display_name": "Python 3.9.7 64-bit",
   "language": "python",
   "name": "python3"
  },
  "language_info": {
   "codemirror_mode": {
    "name": "ipython",
    "version": 3
   },
   "file_extension": ".py",
   "mimetype": "text/x-python",
   "name": "python",
   "nbconvert_exporter": "python",
   "pygments_lexer": "ipython3",
   "version": "3.9.7"
  },
  "orig_nbformat": 4
 },
 "nbformat": 4,
 "nbformat_minor": 2
}
